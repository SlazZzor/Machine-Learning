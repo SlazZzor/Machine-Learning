{
 "cells": [
  {
   "cell_type": "code",
   "execution_count": 2,
   "id": "40d804d2-8dd3-4e4d-a8b4-1cb94955250e",
   "metadata": {},
   "outputs": [
    {
     "data": {
      "text/plain": [
       "tensor([[0.9582, 0.1223, 0.8808, 0.9532, 0.7089, 0.0852, 0.0117],\n",
       "        [0.5627, 0.6084, 0.4738, 0.1623, 0.5076, 0.3154, 0.8969],\n",
       "        [0.1395, 0.7232, 0.0564, 0.3326, 0.0712, 0.5234, 0.2879],\n",
       "        [0.5055, 0.1714, 0.7598, 0.0550, 0.7836, 0.7932, 0.6552],\n",
       "        [0.0684, 0.6775, 0.0989, 0.3303, 0.6812, 0.4985, 0.9125],\n",
       "        [0.9501, 0.8831, 0.8002, 0.8325, 0.2819, 0.3297, 0.0182],\n",
       "        [0.2321, 0.9116, 0.3586, 0.9351, 0.3088, 0.4344, 0.5606]])"
      ]
     },
     "execution_count": 2,
     "metadata": {},
     "output_type": "execute_result"
    }
   ],
   "source": [
    "# Create a random tensor with shape (7, 7).\n",
    "import torch\n",
    "tensor = torch.rand(7, 7)\n",
    "tensor"
   ]
  },
  {
   "cell_type": "code",
   "execution_count": 4,
   "id": "ef7d5fcd-d31f-4467-aa62-0adae2c2ad64",
   "metadata": {},
   "outputs": [
    {
     "name": "stdout",
     "output_type": "stream",
     "text": [
      "tensor([[1.2841],\n",
      "        [1.4883],\n",
      "        [1.7183],\n",
      "        [1.3397],\n",
      "        [1.1608],\n",
      "        [1.1422],\n",
      "        [1.6439]])\n"
     ]
    }
   ],
   "source": [
    "# Perform a matrix multiplication on the tensor from 2 \n",
    "# with another random tensor with shape (1, 7) \n",
    "#(hint: you may have to transpose the second tensor).\n",
    "tensor_A = torch.rand(7, 7)\n",
    "tensor_B = torch.rand(1, 7)\n",
    "print(torch.matmul(tensor_A, tensor_B.T))"
   ]
  },
  {
   "cell_type": "code",
   "execution_count": 7,
   "id": "6ff23be5-0e8b-4428-83ed-6aae4cef08a3",
   "metadata": {},
   "outputs": [
    {
     "name": "stdout",
     "output_type": "stream",
     "text": [
      "tensor([[1.8542],\n",
      "        [1.9611],\n",
      "        [2.2884],\n",
      "        [3.0481],\n",
      "        [1.7067],\n",
      "        [2.5290],\n",
      "        [1.7989]])\n"
     ]
    }
   ],
   "source": [
    "#Set the random seed to 0 and do exercises 2 & 3 over again.\n",
    "torch.manual_seed(0)\n",
    "tensor_A = torch.rand(7, 7)\n",
    "tensor_B = torch.rand(1, 7)\n",
    "print(torch.matmul(tensor_A, tensor_B.T))"
   ]
  },
  {
   "cell_type": "code",
   "execution_count": 8,
   "id": "b1c5a011-19c7-4c48-af29-dd6c9de69078",
   "metadata": {},
   "outputs": [],
   "source": [
    "# Speaking of random seeds, we saw how to set it with torch.manual_seed() \n",
    "# but is there a GPU equivalent? \n",
    "# (hint: you'll need to look into the documentation for torch.cuda for this one). \n",
    "# If there is, set the GPU random seed to 1234.\n",
    "torch.cuda.manual_seed(1234)"
   ]
  },
  {
   "cell_type": "code",
   "execution_count": 11,
   "id": "153e157f-dd54-4289-a006-2856dda24b3c",
   "metadata": {},
   "outputs": [
    {
     "ename": "AssertionError",
     "evalue": "Torch not compiled with CUDA enabled",
     "output_type": "error",
     "traceback": [
      "\u001b[0;31m---------------------------------------------------------------------------\u001b[0m",
      "\u001b[0;31mAssertionError\u001b[0m                            Traceback (most recent call last)",
      "Cell \u001b[0;32mIn[11], line 6\u001b[0m\n\u001b[1;32m      1\u001b[0m \u001b[38;5;66;03m# Create two random tensors of shape (2, 3) and send them both to the GPU \u001b[39;00m\n\u001b[1;32m      2\u001b[0m \u001b[38;5;66;03m# (you'll need access to a GPU for this). \u001b[39;00m\n\u001b[1;32m      3\u001b[0m \u001b[38;5;66;03m# Set torch.manual_seed(1234) when creating the tensors \u001b[39;00m\n\u001b[1;32m      4\u001b[0m \u001b[38;5;66;03m# (this doesn't have to be the GPU random seed).\u001b[39;00m\n\u001b[1;32m      5\u001b[0m torch\u001b[38;5;241m.\u001b[39mmanual_seed(\u001b[38;5;241m1234\u001b[39m)\n\u001b[0;32m----> 6\u001b[0m tensor_A \u001b[38;5;241m=\u001b[39m \u001b[43mtorch\u001b[49m\u001b[38;5;241;43m.\u001b[39;49m\u001b[43mrand\u001b[49m\u001b[43m(\u001b[49m\u001b[38;5;241;43m2\u001b[39;49m\u001b[43m,\u001b[49m\u001b[43m \u001b[49m\u001b[38;5;241;43m3\u001b[39;49m\u001b[43m,\u001b[49m\u001b[43m \u001b[49m\u001b[43mdevice\u001b[49m\u001b[38;5;241;43m=\u001b[39;49m\u001b[38;5;124;43m\"\u001b[39;49m\u001b[38;5;124;43mcuda\u001b[39;49m\u001b[38;5;124;43m\"\u001b[39;49m\u001b[43m)\u001b[49m\n\u001b[1;32m      7\u001b[0m tensor_B \u001b[38;5;241m=\u001b[39m torch\u001b[38;5;241m.\u001b[39mrand(\u001b[38;5;241m2\u001b[39m, \u001b[38;5;241m3\u001b[39m, device\u001b[38;5;241m=\u001b[39m\u001b[38;5;124m\"\u001b[39m\u001b[38;5;124mcuda\u001b[39m\u001b[38;5;124m\"\u001b[39m)\n",
      "File \u001b[0;32m~/Programming/ML/TorchLearning/myenv/lib/python3.10/site-packages/torch/cuda/__init__.py:305\u001b[0m, in \u001b[0;36m_lazy_init\u001b[0;34m()\u001b[0m\n\u001b[1;32m    300\u001b[0m     \u001b[38;5;28;01mraise\u001b[39;00m \u001b[38;5;167;01mRuntimeError\u001b[39;00m(\n\u001b[1;32m    301\u001b[0m         \u001b[38;5;124m\"\u001b[39m\u001b[38;5;124mCannot re-initialize CUDA in forked subprocess. To use CUDA with \u001b[39m\u001b[38;5;124m\"\u001b[39m\n\u001b[1;32m    302\u001b[0m         \u001b[38;5;124m\"\u001b[39m\u001b[38;5;124mmultiprocessing, you must use the \u001b[39m\u001b[38;5;124m'\u001b[39m\u001b[38;5;124mspawn\u001b[39m\u001b[38;5;124m'\u001b[39m\u001b[38;5;124m start method\u001b[39m\u001b[38;5;124m\"\u001b[39m\n\u001b[1;32m    303\u001b[0m     )\n\u001b[1;32m    304\u001b[0m \u001b[38;5;28;01mif\u001b[39;00m \u001b[38;5;129;01mnot\u001b[39;00m \u001b[38;5;28mhasattr\u001b[39m(torch\u001b[38;5;241m.\u001b[39m_C, \u001b[38;5;124m\"\u001b[39m\u001b[38;5;124m_cuda_getDeviceCount\u001b[39m\u001b[38;5;124m\"\u001b[39m):\n\u001b[0;32m--> 305\u001b[0m     \u001b[38;5;28;01mraise\u001b[39;00m \u001b[38;5;167;01mAssertionError\u001b[39;00m(\u001b[38;5;124m\"\u001b[39m\u001b[38;5;124mTorch not compiled with CUDA enabled\u001b[39m\u001b[38;5;124m\"\u001b[39m)\n\u001b[1;32m    306\u001b[0m \u001b[38;5;28;01mif\u001b[39;00m _cudart \u001b[38;5;129;01mis\u001b[39;00m \u001b[38;5;28;01mNone\u001b[39;00m:\n\u001b[1;32m    307\u001b[0m     \u001b[38;5;28;01mraise\u001b[39;00m \u001b[38;5;167;01mAssertionError\u001b[39;00m(\n\u001b[1;32m    308\u001b[0m         \u001b[38;5;124m\"\u001b[39m\u001b[38;5;124mlibcudart functions unavailable. It looks like you have a broken build?\u001b[39m\u001b[38;5;124m\"\u001b[39m\n\u001b[1;32m    309\u001b[0m     )\n",
      "\u001b[0;31mAssertionError\u001b[0m: Torch not compiled with CUDA enabled"
     ]
    }
   ],
   "source": [
    "# Create two random tensors of shape (2, 3) and send them both to the GPU \n",
    "# (you'll need access to a GPU for this). \n",
    "# Set torch.manual_seed(1234) when creating the tensors \n",
    "# (this doesn't have to be the GPU random seed).\n",
    "torch.manual_seed(1234)\n",
    "tensor_A = torch.rand(2, 3, device=\"cuda\")\n",
    "tensor_B = torch.rand(2, 3, device=\"cuda\")"
   ]
  },
  {
   "cell_type": "code",
   "execution_count": null,
   "id": "7327f70a-af0c-40ae-87b1-6da77a70e58d",
   "metadata": {},
   "outputs": [],
   "source": []
  }
 ],
 "metadata": {
  "kernelspec": {
   "display_name": "Python 3 (ipykernel)",
   "language": "python",
   "name": "python3"
  },
  "language_info": {
   "codemirror_mode": {
    "name": "ipython",
    "version": 3
   },
   "file_extension": ".py",
   "mimetype": "text/x-python",
   "name": "python",
   "nbconvert_exporter": "python",
   "pygments_lexer": "ipython3",
   "version": "3.10.10"
  }
 },
 "nbformat": 4,
 "nbformat_minor": 5
}
