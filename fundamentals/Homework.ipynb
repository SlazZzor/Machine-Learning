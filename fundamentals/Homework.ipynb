{
 "cells": [
  {
   "cell_type": "code",
   "execution_count": 30,
   "id": "40d804d2-8dd3-4e4d-a8b4-1cb94955250e",
   "metadata": {},
   "outputs": [
    {
     "data": {
      "text/plain": [
       "tensor([[0.7837, 0.5631, 0.7749, 0.8208, 0.2793, 0.6817, 0.2837],\n",
       "        [0.6567, 0.2388, 0.7313, 0.6012, 0.3043, 0.2548, 0.6294],\n",
       "        [0.9665, 0.7399, 0.4517, 0.4757, 0.7842, 0.1525, 0.6662],\n",
       "        [0.3343, 0.7893, 0.3216, 0.5247, 0.6688, 0.8436, 0.4265],\n",
       "        [0.9561, 0.0770, 0.4108, 0.0014, 0.5414, 0.6419, 0.2976],\n",
       "        [0.7077, 0.4189, 0.0655, 0.8839, 0.8083, 0.7528, 0.8988],\n",
       "        [0.6839, 0.7658, 0.9149, 0.3993, 0.1100, 0.2541, 0.4333]])"
      ]
     },
     "execution_count": 30,
     "metadata": {},
     "output_type": "execute_result"
    }
   ],
   "source": [
    "# Create a random tensor with shape (7, 7).\n",
    "import torch\n",
    "tensor = torch.rand(7, 7)\n",
    "tensor"
   ]
  },
  {
   "cell_type": "code",
   "execution_count": 31,
   "id": "ef7d5fcd-d31f-4467-aa62-0adae2c2ad64",
   "metadata": {},
   "outputs": [
    {
     "name": "stdout",
     "output_type": "stream",
     "text": [
      "tensor([[1.2027],\n",
      "        [0.6421],\n",
      "        [0.9253],\n",
      "        [1.4599],\n",
      "        [1.0091],\n",
      "        [1.6087],\n",
      "        [1.4622]])\n"
     ]
    }
   ],
   "source": [
    "# Perform a matrix multiplication on the tensor from 2 \n",
    "# with another random tensor with shape (1, 7) \n",
    "#(hint: you may have to transpose the second tensor).\n",
    "tensor_A = torch.rand(7, 7)\n",
    "tensor_B = torch.rand(1, 7)\n",
    "print(torch.matmul(tensor_A, tensor_B.T))"
   ]
  },
  {
   "cell_type": "code",
   "execution_count": 32,
   "id": "6ff23be5-0e8b-4428-83ed-6aae4cef08a3",
   "metadata": {},
   "outputs": [
    {
     "name": "stdout",
     "output_type": "stream",
     "text": [
      "tensor([[1.8542],\n",
      "        [1.9611],\n",
      "        [2.2884],\n",
      "        [3.0481],\n",
      "        [1.7067],\n",
      "        [2.5290],\n",
      "        [1.7989]])\n"
     ]
    }
   ],
   "source": [
    "#Set the random seed to 0 and do exercises 2 & 3 over again.\n",
    "torch.manual_seed(0)\n",
    "tensor_A = torch.rand(7, 7)\n",
    "tensor_B = torch.rand(1, 7)\n",
    "print(torch.matmul(tensor_A, tensor_B.T))"
   ]
  },
  {
   "cell_type": "code",
   "execution_count": 33,
   "id": "b1c5a011-19c7-4c48-af29-dd6c9de69078",
   "metadata": {},
   "outputs": [],
   "source": [
    "# Speaking of random seeds, we saw how to set it with torch.manual_seed() \n",
    "# but is there a GPU equivalent? \n",
    "# (hint: you'll need to look into the documentation for torch.cuda for this one). \n",
    "# If there is, set the GPU random seed to 1234.\n",
    "torch.cuda.manual_seed(1234)"
   ]
  },
  {
   "cell_type": "code",
   "execution_count": 34,
   "id": "153e157f-dd54-4289-a006-2856dda24b3c",
   "metadata": {},
   "outputs": [
    {
     "name": "stdout",
     "output_type": "stream",
     "text": [
      "tensor([[0.1272, 0.8167, 0.5440],\n",
      "        [0.6601, 0.2721, 0.9737]], device='cuda:0') \n",
      " tensor([[0.6208, 0.0276, 0.3255],\n",
      "        [0.1114, 0.6812, 0.3608]], device='cuda:0')\n"
     ]
    }
   ],
   "source": [
    "# Create two random tensors of shape (2, 3) and send them both to the GPU \n",
    "# (you'll need access to a GPU for this). \n",
    "# Set torch.manual_seed(1234) when creating the tensors \n",
    "# (this doesn't have to be the GPU random seed).\n",
    "torch.cuda.manual_seed(1234)\n",
    "tensor_A = torch.rand(2, 3, device=\"cuda\")\n",
    "tensor_B = torch.rand(2, 3, device=\"cuda\")\n",
    "print(tensor_A, \"\\n\",tensor_B)"
   ]
  },
  {
   "cell_type": "code",
   "execution_count": 35,
   "id": "7327f70a-af0c-40ae-87b1-6da77a70e58d",
   "metadata": {},
   "outputs": [
    {
     "name": "stdout",
     "output_type": "stream",
     "text": [
      "tensor([[0.2786, 0.7668],\n",
      "        [0.7343, 0.6102]], device='cuda:0')\n"
     ]
    }
   ],
   "source": [
    "# Perform a matrix multiplication on the tensors you created in 6 \n",
    "# (again, you may have to adjust the shapes of one of the tensors).\n",
    "newTensor = torch.matmul(tensor_A, tensor_B.T)\n",
    "print(newTensor)"
   ]
  },
  {
   "cell_type": "code",
   "execution_count": 36,
   "id": "af56058c-5588-4838-8f3f-9ee850153b75",
   "metadata": {},
   "outputs": [
    {
     "name": "stdout",
     "output_type": "stream",
     "text": [
      "tensor(0.7668, device='cuda:0')\n",
      "tensor(0.2786, device='cuda:0')\n"
     ]
    }
   ],
   "source": [
    "# Find the maximum and minimum values of the output of 7.\n",
    "print(newTensor.max())\n",
    "print(newTensor.min())"
   ]
  },
  {
   "cell_type": "code",
   "execution_count": 37,
   "id": "40dc82ed-23a7-4df3-8c15-abb9d0acb7f3",
   "metadata": {},
   "outputs": [
    {
     "name": "stdout",
     "output_type": "stream",
     "text": [
      "tensor(1, device='cuda:0')\n",
      "tensor(0, device='cuda:0')\n"
     ]
    }
   ],
   "source": [
    "#Find the maximum and minimum index values of the output of 7.\n",
    "print(newTensor.argmax())\n",
    "print(newTensor.argmin())"
   ]
  },
  {
   "cell_type": "code",
   "execution_count": 38,
   "id": "06edd03b-a575-4b0a-9f1e-4fc13426154b",
   "metadata": {},
   "outputs": [],
   "source": [
    "# Make a random tensor with shape (1, 1, 1, 10) and \n",
    "# then create a new tensor with all the 1 dimensions removed to be left with a tensor of shape (10). \n",
    "# Set the seed to 7 when you create it and \n",
    "# print out the first tensor and it's shape as well as the second tensor and it's shape."
   ]
  },
  {
   "cell_type": "code",
   "execution_count": 41,
   "id": "58969725-7277-43a9-b37f-f768c8d588e9",
   "metadata": {},
   "outputs": [
    {
     "name": "stdout",
     "output_type": "stream",
     "text": [
      "tensor([[[[0.5349, 0.1988, 0.6592, 0.6569, 0.2328, 0.4251, 0.2071, 0.6297,\n",
      "           0.3653, 0.8513]]]])\n",
      "torch.Size([1, 1, 1, 10])\n",
      "--------\n",
      "tensor([0.5349, 0.1988, 0.6592, 0.6569, 0.2328, 0.4251, 0.2071, 0.6297, 0.3653,\n",
      "        0.8513])\n",
      "torch.Size([10])\n"
     ]
    }
   ],
   "source": [
    "torch.manual_seed(7)\n",
    "tensor = torch.rand(1, 1, 1, 10)\n",
    "newTensor = tensor.squeeze()\n",
    "print(tensor)\n",
    "print(tensor.shape)\n",
    "print(\"--------\")\n",
    "print(newTensor)\n",
    "print(newTensor.shape)\n"
   ]
  },
  {
   "cell_type": "code",
   "execution_count": null,
   "id": "4ce99a94-6e3d-4ca9-a23f-23cd6bcdff8b",
   "metadata": {},
   "outputs": [],
   "source": []
  },
  {
   "cell_type": "code",
   "execution_count": null,
   "id": "e5a4a62a-ef40-4ecf-861e-60c93f1ee8c7",
   "metadata": {},
   "outputs": [],
   "source": []
  }
 ],
 "metadata": {
  "kernelspec": {
   "display_name": "myenv",
   "language": "python",
   "name": "myenv"
  },
  "language_info": {
   "codemirror_mode": {
    "name": "ipython",
    "version": 3
   },
   "file_extension": ".py",
   "mimetype": "text/x-python",
   "name": "python",
   "nbconvert_exporter": "python",
   "pygments_lexer": "ipython3",
   "version": "3.11.9"
  }
 },
 "nbformat": 4,
 "nbformat_minor": 5
}
