{
 "cells": [
  {
   "cell_type": "code",
   "execution_count": 255,
   "id": "8beffd72-8139-40ba-a7cf-45a25acf7da3",
   "metadata": {},
   "outputs": [
    {
     "name": "stdout",
     "output_type": "stream",
     "text": [
      "Your device: cpu\n"
     ]
    }
   ],
   "source": [
    "import torch\n",
    "import matplotlib.pyplot as plt\n",
    "from torch import nn\n",
    "\n",
    "device = \"\"\n",
    "if torch.cuda.is_available():\n",
    "    device = torch.device(\"cuda\")\n",
    "else:\n",
    "    device = torch.device(\"cpu\")\n",
    "print(\"Your device:\", device)"
   ]
  },
  {
   "cell_type": "code",
   "execution_count": 256,
   "id": "ff51f63d-dd8e-4699-9eba-333a6d2ac9e7",
   "metadata": {},
   "outputs": [
    {
     "data": {
      "text/plain": [
       "(tensor([80, 81, 82, 83, 84, 85, 86, 87, 88, 89, 90, 91, 92, 93, 94, 95, 96, 97,\n",
       "         98, 99]),\n",
       " tensor([24.9000, 25.2000, 25.5000, 25.8000, 26.1000, 26.4000, 26.7000, 27.0000,\n",
       "         27.3000, 27.6000, 27.9000, 28.2000, 28.5000, 28.8000, 29.1000, 29.4000,\n",
       "         29.7000, 30.0000, 30.3000, 30.6000]))"
      ]
     },
     "execution_count": 256,
     "metadata": {},
     "output_type": "execute_result"
    }
   ],
   "source": [
    "weight = 0.3\n",
    "bias = 0.9\n",
    "step = 1\n",
    "X = torch.arange(0, 100, step)\n",
    "y = weight * X + bias\n",
    "splitter = 0.8 \n",
    "X_train, y_train = X[:int(splitter * len(X))], y[:int(splitter*len(y))]\n",
    "X_test, y_test = X[int(splitter * len(X)):], y[int(splitter*len(y)):]\n",
    "X_test, y_test"
   ]
  },
  {
   "cell_type": "code",
   "execution_count": 257,
   "id": "afe28124-c7ae-4744-841a-df1044d3ce6d",
   "metadata": {},
   "outputs": [
    {
     "data": {
      "text/plain": [
       "<matplotlib.collections.PathCollection at 0x12714eb00>"
      ]
     },
     "execution_count": 257,
     "metadata": {},
     "output_type": "execute_result"
    },
    {
     "data": {
      "image/png": "[encoded data removed]",
      "text/plain": [
       "<Figure size 640x480 with 1 Axes>"
      ]
     },
     "metadata": {},
     "output_type": "display_data"
    }
   ],
   "source": [
    "plt.scatter(X_train, y_train, c=\"b\", s = 4,label = \"Train\")\n",
    "plt.scatter(X_test, y_test, c=\"g\", s = 4,label = \"Test\")"
   ]
  },
  {
   "cell_type": "code",
   "execution_count": 258,
   "id": "290be623-3df0-4df5-a31d-dd58f5034ad4",
   "metadata": {},
   "outputs": [],
   "source": [
    "class LinearRegressionModel(nn.Module):\n",
    "    def __init__(self):\n",
    "        super().__init__()\n",
    "        self.weights = nn.Parameter(torch.randn(1, dtype=torch.float),\n",
    "                                                requires_grad=True)\n",
    "        self.bias = nn.Parameter(torch.randn(1, dtype=torch.float),\n",
    "                                            requires_grad=True)\n",
    "    def forward(self, x: torch.tensor) -> torch.tensor:\n",
    "        return self.weights * x + self.bias"
   ]
  },
  {
   "cell_type": "code",
   "execution_count": 259,
   "id": "0dbc6133-3026-4f0c-8c47-777cb8d91064",
   "metadata": {},
   "outputs": [],
   "source": [
    "model = LinearRegressionModel()"
   ]
  },
  {
   "cell_type": "code",
   "execution_count": 260,
   "id": "d946c7e1-1db6-4d5c-b278-b2d34b71d066",
   "metadata": {},
   "outputs": [
    {
     "data": {
      "text/plain": [
       "OrderedDict([('weights', tensor([-0.6161])), ('bias', tensor([0.3632]))])"
      ]
     },
     "execution_count": 260,
     "metadata": {},
     "output_type": "execute_result"
    }
   ],
   "source": [
    "model.state_dict()"
   ]
  },
  {
   "cell_type": "code",
   "execution_count": 261,
   "id": "bd6ab12f-18ac-4f5e-bd77-196cebcd086f",
   "metadata": {},
   "outputs": [],
   "source": [
    "loss_fn = nn.L1Loss()\n",
    "optimizer = torch.optim.SGD(model.parameters(),\n",
    "                            0.01) # learning rate     "
   ]
  },
  {
   "cell_type": "code",
   "execution_count": 262,
   "id": "578c3ac3-0fe4-44af-a847-df77a3301076",
   "metadata": {},
   "outputs": [
    {
     "data": {
      "text/plain": [
       "OrderedDict([('weights', tensor([0.2111])), ('bias', tensor([0.4577]))])"
      ]
     },
     "execution_count": 262,
     "metadata": {},
     "output_type": "execute_result"
    }
   ],
   "source": [
    "epochs = 300 \n",
    "for epoch in range(epochs):\n",
    "    #put model in training mode\n",
    "    model.train()\n",
    "    #get predictions on train data with forward() function\n",
    "    y_pred = model(X_train)\n",
    "    #calculate MAE\n",
    "    loss = loss_fn(y_pred, y_train)\n",
    "    #Zero the gradients of the optimizer\n",
    "    optimizer.zero_grad()\n",
    "    #Perform backpropagation on the loss\n",
    "    loss.backward()\n",
    "    #Progress / step for the optimizer\n",
    "    optimizer.step()\n",
    "model.state_dict()"
   ]
  },
  {
   "cell_type": "code",
   "execution_count": 263,
   "id": "9091811f-0400-4daa-95ca-692303c7835d",
   "metadata": {},
   "outputs": [
    {
     "data": {
      "text/plain": [
       "<matplotlib.legend.Legend at 0x126d0b9a0>"
      ]
     },
     "execution_count": 263,
     "metadata": {},
     "output_type": "execute_result"
    },
    {
     "data": {
      "image/png": "[encoded data removed]",
      "text/plain": [
       "<Figure size 640x480 with 1 Axes>"
      ]
     },
     "metadata": {},
     "output_type": "display_data"
    }
   ],
   "source": [
    "with torch.inference_mode():\n",
    "    y_pred = model(X_train)\n",
    "plt.scatter(X_train, y_train, c=\"b\", s = 4,label = \"Train\")\n",
    "plt.scatter(X_test, y_test, c=\"g\", s = 4,label = \"Test\")\n",
    "plt.scatter(X_train, y_pred,c=\"r\", s= 4, label = \"Prediction\")\n",
    "plt.legend(prop={\"size\":14})"
   ]
  },
  {
   "cell_type": "code",
   "execution_count": 264,
   "id": "93e9a7a1-9de4-42bd-a5d6-bfafd0e7063b",
   "metadata": {},
   "outputs": [
    {
     "data": {
      "text/plain": [
       "OrderedDict([('weights', tensor([0.2111])), ('bias', tensor([0.4577]))])"
      ]
     },
     "execution_count": 264,
     "metadata": {},
     "output_type": "execute_result"
    }
   ],
   "source": [
    "model.state_dict()"
   ]
  },
  {
   "cell_type": "code",
   "execution_count": 265,
   "id": "a9766a92-64d4-4d19-b6c1-7c85dd39b763",
   "metadata": {},
   "outputs": [
    {
     "name": "stdout",
     "output_type": "stream",
     "text": [
      "Saving model to: models/01_pytorch_workflow_model_0.pth\n"
     ]
    }
   ],
   "source": [
    "from pathlib import Path\n",
    "\n",
    "# 1. Create models directory \n",
    "MODEL_PATH = Path(\"models\")\n",
    "MODEL_PATH.mkdir(parents=True, exist_ok=True)\n",
    "\n",
    "# 2. Create model save path \n",
    "MODEL_NAME = \"01_pytorch_workflow_model_0.pth\"\n",
    "MODEL_SAVE_PATH = MODEL_PATH / MODEL_NAME\n",
    "\n",
    "# 3. Save the model state dict \n",
    "print(f\"Saving model to: {MODEL_SAVE_PATH}\")\n",
    "torch.save(obj=model.state_dict(), # only saving the state_dict() only saves the models learned parameters\n",
    "           f=MODEL_SAVE_PATH) "
   ]
  },
  {
   "cell_type": "code",
   "execution_count": null,
   "id": "2a580b93-10d2-4893-8bd0-77d682f874d4",
   "metadata": {},
   "outputs": [],
   "source": []
  }
 ],
 "metadata": {
  "kernelspec": {
   "display_name": "myenv",
   "language": "python",
   "name": "myenv"
  },
  "language_info": {
   "codemirror_mode": {
    "name": "ipython",
    "version": 3
   },
   "file_extension": ".py",
   "mimetype": "text/x-python",
   "name": "python",
   "nbconvert_exporter": "python",
   "pygments_lexer": "ipython3",
   "version": "3.10.10"
  }
 },
 "nbformat": 4,
 "nbformat_minor": 5
}
